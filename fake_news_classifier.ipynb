{
  "nbformat": 4,
  "nbformat_minor": 0,
  "metadata": {
    "colab": {
      "name": "Final_Project.ipynb",
      "provenance": [],
      "collapsed_sections": []
    },
    "kernelspec": {
      "name": "python3",
      "display_name": "Python 3"
    },
    "accelerator": "TPU"
  },
  "cells": [
    {
      "cell_type": "markdown",
      "metadata": {
        "id": "fw24hr6weFCq",
        "colab_type": "text"
      },
      "source": [
        "#Final Project\n",
        "**Rafael Moreno**\n",
        "\n",
        "Applications of Data Analytics and Development DA516\n",
        "\n"
      ]
    },
    {
      "cell_type": "markdown",
      "metadata": {
        "id": "z8gODNEF1YA0",
        "colab_type": "text"
      },
      "source": [
        "#Detecting Fake News\n",
        "\n",
        "This final project focuses on detecting fake news based on news labeled as fake and real news. Using sklearn, we build a TfidfVectorizer on our dataset. Then, we will initialize a PassiveAggressive Classifier and fit the model.\n",
        "After that we will use tensorflow and keras to establish a comparison between CNN and more traditional classifiers."
      ]
    },
    {
      "cell_type": "markdown",
      "metadata": {
        "id": "E6GmcCGLZc8P",
        "colab_type": "text"
      },
      "source": [
        "#What is Fake News?\n",
        "\n",
        "It is a type of yellow journalism. Fake news encapsulates pieces of news that may be hoaxes and is generally spread through social media and other online media. This is often done to further or impose certain ideas and is often achieved with political agendas. Such news items may contain false and/or exaggerated claims, and may end up being viralized by algorithms, and users may end up in a filter bubble."
      ]
    },
    {
      "cell_type": "markdown",
      "metadata": {
        "id": "txQKX0bgZjAA",
        "colab_type": "text"
      },
      "source": [
        "#The Dataset\n",
        "\n",
        "This dataset has a shape of 7796×4. The first column identifies the news, the second and third are the title and text, and the fourth column has labels denoting whether the news is REAL or FAKE."
      ]
    },
    {
      "cell_type": "markdown",
      "metadata": {
        "id": "9QMLKCKZ1emG",
        "colab_type": "text"
      },
      "source": [
        "#TfidfVectorizer\n",
        "\n",
        "![alt text](https://miro.medium.com/proxy/1*nSqHXwOIJ2fa_EFLTh5KYw.png)\n",
        "\n",
        "Machine learning algorithms cannot work with raw text directly. Rather, the text must be converted into vectors of numbers. In natural language processing, a common technique for extracting features from text is to place all of the words that occur in the text in a bucket. This aproach is called a **bag of words** model. It’s referred to as a “bag” of words because any information about the structure of the sentence is lost.\n",
        "\n",
        "The problem with the bag of words approach is that **it doesn’t account for noise**. In other words, certain words are used to formulate sentences but do not add any semantic meaning to the text. On the other hand, words like good and awesome could be used to determine whether a rating was positive or not.\n",
        "\n",
        "Often times, when building a model with the goal of understanding text, you’ll see all of stop words being removed. Another strategy is to score the relative importance of words using **TF-IDF**.\n",
        "\n",
        "###TF (Term Frequency): \n",
        "\n",
        "\n",
        "![alt text](https://miro.medium.com/proxy/1*HM0Vcdrx2RApOyjp_ZeW_Q.png)\n",
        "\n",
        "\n",
        "Term Frequency is the number of times a word appears in a document. A higher value means a term appears more often than others, and so, the document is a good match when the term is part of the search terms.\n",
        "\n",
        "####IDF (Inverse Document Frequency): \n",
        "\n",
        "![alt text](https://miro.medium.com/proxy/1*A5YGwFpcTd0YTCdgoiHFUw.png)\n",
        "\n",
        "Words that occur many times in a document, but also occur many times in many others, may be irrelevant. IDF is a measure of how significant a term is in the entire corpus.\n",
        "\n",
        "The TfidfVectorizer converts a collection of raw documents into a matrix of TF-IDF features."
      ]
    },
    {
      "cell_type": "markdown",
      "metadata": {
        "id": "aeodmEnq15Mr",
        "colab_type": "text"
      },
      "source": [
        "#What is a PassiveAggressiveClassifier?\n",
        "\n",
        "Passive Aggressive algorithms are online learning algorithms. Such an algorithm remains passive for a correct classification outcome, and turns aggressive in the event of a miscalculation, updating and adjusting. Unlike most other algorithms, it does not converge. Its purpose is to make updates that correct the loss, causing very little change in the norm of the weight vector."
      ]
    },
    {
      "cell_type": "code",
      "metadata": {
        "id": "ZIjUfX6Sr8Cj",
        "colab_type": "code",
        "colab": {}
      },
      "source": [
        "import numpy as np\n",
        "import pandas as pd\n",
        "import itertools\n",
        "from sklearn.model_selection import train_test_split\n",
        "from sklearn.feature_extraction.text import TfidfVectorizer\n",
        "from sklearn.linear_model import PassiveAggressiveClassifier\n",
        "from sklearn.metrics import accuracy_score, confusion_matrix\n",
        "from keras.preprocessing.text import Tokenizer\n",
        "from keras.preprocessing.sequence import pad_sequences\n",
        "from keras.utils import to_categorical\n",
        "from keras.layers.embeddings import Embedding\n",
        "from keras.preprocessing import sequence\n",
        "%matplotlib inline\n",
        "import matplotlib.pyplot as plt\n",
        "plt.style.use('ggplot')"
      ],
      "execution_count": 0,
      "outputs": []
    },
    {
      "cell_type": "code",
      "metadata": {
        "id": "vJ_jDD9Asvgy",
        "colab_type": "code",
        "outputId": "2df5ce97-b89b-42a6-877e-c7818029f60b",
        "colab": {
          "base_uri": "https://localhost:8080/",
          "height": 221
        }
      },
      "source": [
        "#Read the data\n",
        "df=pd.read_csv('news.csv')\n",
        "#Get shape and head\n",
        "print(df.shape)\n",
        "df.head()"
      ],
      "execution_count": 0,
      "outputs": [
        {
          "output_type": "stream",
          "text": [
            "(6335, 4)\n"
          ],
          "name": "stdout"
        },
        {
          "output_type": "execute_result",
          "data": {
            "text/html": [
              "<div>\n",
              "<style scoped>\n",
              "    .dataframe tbody tr th:only-of-type {\n",
              "        vertical-align: middle;\n",
              "    }\n",
              "\n",
              "    .dataframe tbody tr th {\n",
              "        vertical-align: top;\n",
              "    }\n",
              "\n",
              "    .dataframe thead th {\n",
              "        text-align: right;\n",
              "    }\n",
              "</style>\n",
              "<table border=\"1\" class=\"dataframe\">\n",
              "  <thead>\n",
              "    <tr style=\"text-align: right;\">\n",
              "      <th></th>\n",
              "      <th>Unnamed: 0</th>\n",
              "      <th>title</th>\n",
              "      <th>text</th>\n",
              "      <th>label</th>\n",
              "    </tr>\n",
              "  </thead>\n",
              "  <tbody>\n",
              "    <tr>\n",
              "      <th>0</th>\n",
              "      <td>8476</td>\n",
              "      <td>You Can Smell Hillary’s Fear</td>\n",
              "      <td>Daniel Greenfield, a Shillman Journalism Fello...</td>\n",
              "      <td>FAKE</td>\n",
              "    </tr>\n",
              "    <tr>\n",
              "      <th>1</th>\n",
              "      <td>10294</td>\n",
              "      <td>Watch The Exact Moment Paul Ryan Committed Pol...</td>\n",
              "      <td>Google Pinterest Digg Linkedin Reddit Stumbleu...</td>\n",
              "      <td>FAKE</td>\n",
              "    </tr>\n",
              "    <tr>\n",
              "      <th>2</th>\n",
              "      <td>3608</td>\n",
              "      <td>Kerry to go to Paris in gesture of sympathy</td>\n",
              "      <td>U.S. Secretary of State John F. Kerry said Mon...</td>\n",
              "      <td>REAL</td>\n",
              "    </tr>\n",
              "    <tr>\n",
              "      <th>3</th>\n",
              "      <td>10142</td>\n",
              "      <td>Bernie supporters on Twitter erupt in anger ag...</td>\n",
              "      <td>— Kaydee King (@KaydeeKing) November 9, 2016 T...</td>\n",
              "      <td>FAKE</td>\n",
              "    </tr>\n",
              "    <tr>\n",
              "      <th>4</th>\n",
              "      <td>875</td>\n",
              "      <td>The Battle of New York: Why This Primary Matters</td>\n",
              "      <td>It's primary day in New York and front-runners...</td>\n",
              "      <td>REAL</td>\n",
              "    </tr>\n",
              "  </tbody>\n",
              "</table>\n",
              "</div>"
            ],
            "text/plain": [
              "   Unnamed: 0  ... label\n",
              "0        8476  ...  FAKE\n",
              "1       10294  ...  FAKE\n",
              "2        3608  ...  REAL\n",
              "3       10142  ...  FAKE\n",
              "4         875  ...  REAL\n",
              "\n",
              "[5 rows x 4 columns]"
            ]
          },
          "metadata": {
            "tags": []
          },
          "execution_count": 2
        }
      ]
    },
    {
      "cell_type": "code",
      "metadata": {
        "id": "zXcLKkdBs246",
        "colab_type": "code",
        "outputId": "b95df6a2-c3f1-4986-94a4-a1db834a4234",
        "colab": {
          "base_uri": "https://localhost:8080/",
          "height": 119
        }
      },
      "source": [
        "#Get the labels\n",
        "labels=df.label\n",
        "labels.head()\n",
        "texts = df.text\n",
        "texts.head()"
      ],
      "execution_count": 0,
      "outputs": [
        {
          "output_type": "execute_result",
          "data": {
            "text/plain": [
              "0    Daniel Greenfield, a Shillman Journalism Fello...\n",
              "1    Google Pinterest Digg Linkedin Reddit Stumbleu...\n",
              "2    U.S. Secretary of State John F. Kerry said Mon...\n",
              "3    — Kaydee King (@KaydeeKing) November 9, 2016 T...\n",
              "4    It's primary day in New York and front-runners...\n",
              "Name: text, dtype: object"
            ]
          },
          "metadata": {
            "tags": []
          },
          "execution_count": 3
        }
      ]
    },
    {
      "cell_type": "code",
      "metadata": {
        "id": "yAho_SA0s-fG",
        "colab_type": "code",
        "colab": {}
      },
      "source": [
        "#Split the dataset\n",
        "x_train,x_test,y_train,y_test=train_test_split(df['text'], labels, test_size=0.2)"
      ],
      "execution_count": 0,
      "outputs": []
    },
    {
      "cell_type": "code",
      "metadata": {
        "id": "OdBrhyWztU4F",
        "colab_type": "code",
        "colab": {}
      },
      "source": [
        "#Initialize a TfidfVectorizer\n",
        "tfidf_vectorizer=TfidfVectorizer(stop_words='english', max_df=0.7)\n",
        "#Fit and transform train set, transform test set\n",
        "tfidf_train=tfidf_vectorizer.fit_transform(x_train) \n",
        "tfidf_test=tfidf_vectorizer.transform(x_test)"
      ],
      "execution_count": 0,
      "outputs": []
    },
    {
      "cell_type": "code",
      "metadata": {
        "id": "3b09AUp8tcLT",
        "colab_type": "code",
        "outputId": "c37c2de8-73d5-4d7a-c319-5fb1cd412eff",
        "colab": {
          "base_uri": "https://localhost:8080/",
          "height": 34
        }
      },
      "source": [
        "#Initialize a PassiveAggressiveClassifier\n",
        "pac=PassiveAggressiveClassifier(max_iter=50)\n",
        "pac.fit(tfidf_train,y_train)\n",
        "\n",
        "#Predict on the test set and calculate accuracy\n",
        "y_pred=pac.predict(tfidf_test)\n",
        "score=accuracy_score(y_test,y_pred)\n",
        "print(f'Accuracy: {round(score*100,2)}%')"
      ],
      "execution_count": 0,
      "outputs": [
        {
          "output_type": "stream",
          "text": [
            "Accuracy: 92.98%\n"
          ],
          "name": "stdout"
        }
      ]
    },
    {
      "cell_type": "code",
      "metadata": {
        "id": "0JbJXhW0to6j",
        "colab_type": "code",
        "outputId": "2c59db6d-3a30-4ea6-e8f2-da280742586d",
        "colab": {
          "base_uri": "https://localhost:8080/",
          "height": 51
        }
      },
      "source": [
        "#Build confusion matrix\n",
        "confusion_matrix(y_test,y_pred, labels=['FAKE','REAL'])"
      ],
      "execution_count": 0,
      "outputs": [
        {
          "output_type": "execute_result",
          "data": {
            "text/plain": [
              "array([[591,  47],\n",
              "       [ 42, 587]])"
            ]
          },
          "metadata": {
            "tags": []
          },
          "execution_count": 7
        }
      ]
    },
    {
      "cell_type": "markdown",
      "metadata": {
        "id": "u2mX8RWgR5PL",
        "colab_type": "text"
      },
      "source": [
        "#CNN\n",
        "\n",
        "Deep neural networks take a very different approach to document classification. Firstly, words are represented as embedding vectors with the idea that two words that are semantically similar to each other have similar vectors. Consider the following figure:\n",
        "\n",
        "![alt text](https://miro.medium.com/max/780/0*MFf7sLI9z4A4xyRw.png)\n",
        "\n",
        "This figure represents a 2D embedding space with five embedding vectors each representing a different word:\n",
        "\n",
        "* Red — Queen\n",
        "* Blue — King\n",
        "* Green — Man\n",
        "* Black — Woman\n",
        "* Yellow — Oil\n",
        "\n",
        "We can see that concepts that are similar to each other are close together (e.g. man and woman) in this embedding space and concepts not related are further apart (e.g. oil).\n",
        "\n",
        "Secondly, in deep neural networks documents are no longer compressed into a vector representation of just word occurrences. Instead, deep neural networks process actual sequences of words (coded as integers) as they appear in the documents thereby maintaining the order and contexts of words.\n",
        "\n",
        "Consider the following code snippet using the Keras tokenizer applied to two sentences:\n",
        "\n",
        "![alt text](https://i.ibb.co/dB54sRn/Screen-Shot-2019-11-28-at-1-37-45-PM.png)\n",
        "\n",
        "This will print out the following sequences:\n",
        "\n",
        "![alt text](https://i.ibb.co/4pty0rQ/Screen-Shot-2019-11-28-at-1-44-47-PM.png)\n",
        "\n",
        "with a word_index of:\n",
        "\n",
        "![alt text](https://i.ibb.co/4ZrT5C3/Screen-Shot-2019-11-28-at-1-54-20-PM.png)\n",
        "\n",
        "These sequences can be directly fed into a deep neural network for training and classification. Notice that word order and context are nicely preserved in this representation."
      ]
    },
    {
      "cell_type": "code",
      "metadata": {
        "id": "LsVIhx4P4ATF",
        "colab_type": "code",
        "colab": {}
      },
      "source": [
        "MAX_SEQUENCE_LENGTH = 5000\n",
        "MAX_NUM_WORDS = 25000\n",
        "EMBEDDING_DIM = 300"
      ],
      "execution_count": 0,
      "outputs": []
    },
    {
      "cell_type": "code",
      "metadata": {
        "id": "EyicPjdf39fO",
        "colab_type": "code",
        "outputId": "c7e49cab-df00-4e82-eb8e-beca934783f4",
        "colab": {
          "base_uri": "https://localhost:8080/",
          "height": 68
        }
      },
      "source": [
        "# vectorize the text samples into a 2D integer tensor \n",
        "\n",
        "tokenizer = Tokenizer(num_words=MAX_NUM_WORDS)\n",
        "tokenizer.fit_on_texts(texts)\n",
        "sequences = tokenizer.texts_to_sequences(texts)\n",
        "\n",
        "word_index = tokenizer.word_index\n",
        "num_words = min(MAX_NUM_WORDS, len(word_index)) + 1\n",
        "data = pad_sequences(sequences, \n",
        "                     maxlen=MAX_SEQUENCE_LENGTH, \n",
        "                     padding='pre', \n",
        "                     truncating='pre')\n",
        "\n",
        "print('Found %s unique tokens.' % len(word_index))\n",
        "print('Shape of data tensor:', data.shape)\n",
        "print('Shape of label tensor:', labels.shape)"
      ],
      "execution_count": 0,
      "outputs": [
        {
          "output_type": "stream",
          "text": [
            "Found 98817 unique tokens.\n",
            "Shape of data tensor: (6335, 5000)\n",
            "Shape of label tensor: (6335,)\n"
          ],
          "name": "stdout"
        }
      ]
    },
    {
      "cell_type": "code",
      "metadata": {
        "id": "1plJY4dasnVC",
        "colab_type": "code",
        "colab": {}
      },
      "source": [
        "# split the data into a training set and a validation set   \n",
        "\n",
        "x_train, x_val, y_train, y_val = train_test_split(data, \n",
        "                                                  labels.apply(lambda x: 0 if x == 'FAKE' else 1), \n",
        "                                                  test_size=0.2)"
      ],
      "execution_count": 0,
      "outputs": []
    },
    {
      "cell_type": "markdown",
      "metadata": {
        "id": "cA_QGXnJYMGn",
        "colab_type": "text"
      },
      "source": [
        "Our **CNN** can be broken down into two distinct parts. \n",
        "The first part consists of three layers and is responsible for word and sequence processing:\n",
        "\n",
        "* The Embedding layer — learn word embeddings.\n",
        "* The Convolution layer — learn patterns throughout the text sequences.\n",
        "* The Pooling layer — filter out the interesting sequence patterns.\n",
        "\n",
        "The second part consists of two layers:\n",
        "* A Dense layer with a ReLU activation function.\n",
        "* A Dense layer (also the output layer) with a Sigmoid activation function.\n",
        "\n",
        "This part of the CNN can be viewed as a traditional feed-foward, back-propagation neural network with one hidden layer operating on a feature vector of length 128 computed by the first part of the CNN."
      ]
    },
    {
      "cell_type": "code",
      "metadata": {
        "id": "sUkBoBMLs4Bs",
        "colab_type": "code",
        "outputId": "cf30eec0-2416-4e9b-ed0f-896fbcb843c3",
        "colab": {
          "base_uri": "https://localhost:8080/",
          "height": 357
        }
      },
      "source": [
        "# build a 1D convnet with global maxpooling                                                                      \n",
        "\n",
        "from keras import layers\n",
        "from keras.models import Sequential\n",
        "\n",
        "model = Sequential([\n",
        "        # part 1: word and sequence processing\n",
        "        layers.Embedding(num_words,\n",
        "                         EMBEDDING_DIM, \n",
        "                         input_length=MAX_SEQUENCE_LENGTH,\n",
        "                         trainable=True),\n",
        "        layers.Conv1D(128, 5, activation='relu'),\n",
        "        layers.GlobalMaxPooling1D(),\n",
        "        \n",
        "        # part 2: classification\n",
        "        layers.Dense(128, activation='relu'),\n",
        "        layers.Dropout(0.5),\n",
        "        layers.Dense(1, activation='sigmoid')\n",
        "    ])\n",
        "\n",
        "model.compile(loss='binary_crossentropy',\n",
        "              optimizer='rmsprop',\n",
        "              metrics=['accuracy'])\n",
        "\n",
        "model.summary()"
      ],
      "execution_count": 0,
      "outputs": [
        {
          "output_type": "stream",
          "text": [
            "Model: \"sequential_6\"\n",
            "_________________________________________________________________\n",
            "Layer (type)                 Output Shape              Param #   \n",
            "=================================================================\n",
            "embedding_7 (Embedding)      (None, 5000, 300)         7500300   \n",
            "_________________________________________________________________\n",
            "conv1d_7 (Conv1D)            (None, 4996, 128)         192128    \n",
            "_________________________________________________________________\n",
            "global_max_pooling1d_7 (Glob (None, 128)               0         \n",
            "_________________________________________________________________\n",
            "dense_12 (Dense)             (None, 128)               16512     \n",
            "_________________________________________________________________\n",
            "dropout_6 (Dropout)          (None, 128)               0         \n",
            "_________________________________________________________________\n",
            "dense_13 (Dense)             (None, 1)                 129       \n",
            "=================================================================\n",
            "Total params: 7,709,069\n",
            "Trainable params: 7,709,069\n",
            "Non-trainable params: 0\n",
            "_________________________________________________________________\n"
          ],
          "name": "stdout"
        }
      ]
    },
    {
      "cell_type": "code",
      "metadata": {
        "id": "LH6szK5etxLA",
        "colab_type": "code",
        "outputId": "4dada3a2-0334-49fb-a187-4db2a4fa8dfd",
        "colab": {
          "base_uri": "https://localhost:8080/",
          "height": 374
        }
      },
      "source": [
        "# train the model\n",
        "\n",
        "history = model.fit(x_train, \n",
        "                    y_train,\n",
        "                    batch_size=128,\n",
        "                    epochs=10,\n",
        "                    validation_data=(x_val, y_val))"
      ],
      "execution_count": 0,
      "outputs": [
        {
          "output_type": "stream",
          "text": [
            "Train on 5068 samples, validate on 1267 samples\n",
            "Epoch 1/10\n",
            "5068/5068 [==============================] - 740s 146ms/step - loss: 0.5273 - acc: 0.7417 - val_loss: 0.3163 - val_acc: 0.8824\n",
            "Epoch 2/10\n",
            "5068/5068 [==============================] - 742s 146ms/step - loss: 0.1943 - acc: 0.9355 - val_loss: 0.1901 - val_acc: 0.9219\n",
            "Epoch 3/10\n",
            "5068/5068 [==============================] - 741s 146ms/step - loss: 0.0625 - acc: 0.9868 - val_loss: 0.1463 - val_acc: 0.9369\n",
            "Epoch 4/10\n",
            "5068/5068 [==============================] - 741s 146ms/step - loss: 0.0159 - acc: 0.9982 - val_loss: 0.1428 - val_acc: 0.9432\n",
            "Epoch 5/10\n",
            "5068/5068 [==============================] - 742s 146ms/step - loss: 0.0042 - acc: 0.9998 - val_loss: 0.1450 - val_acc: 0.9479\n",
            "Epoch 6/10\n",
            "5068/5068 [==============================] - 741s 146ms/step - loss: 8.6874e-04 - acc: 1.0000 - val_loss: 0.2131 - val_acc: 0.9416\n",
            "Epoch 7/10\n",
            "5068/5068 [==============================] - 740s 146ms/step - loss: 3.2665e-04 - acc: 1.0000 - val_loss: 0.1762 - val_acc: 0.9511\n",
            "Epoch 8/10\n",
            "5068/5068 [==============================] - 737s 145ms/step - loss: 1.4111e-04 - acc: 1.0000 - val_loss: 0.1834 - val_acc: 0.9495\n",
            "Epoch 9/10\n",
            "5068/5068 [==============================] - 736s 145ms/step - loss: 2.1675e-05 - acc: 1.0000 - val_loss: 0.1976 - val_acc: 0.9534\n",
            "Epoch 10/10\n",
            "5068/5068 [==============================] - 735s 145ms/step - loss: 9.2196e-06 - acc: 1.0000 - val_loss: 0.2261 - val_acc: 0.9463\n"
          ],
          "name": "stdout"
        }
      ]
    },
    {
      "cell_type": "code",
      "metadata": {
        "id": "cJJOL25Kt6eT",
        "colab_type": "code",
        "outputId": "814df8bc-4b69-48b5-e288-de042d6a3b28",
        "colab": {
          "base_uri": "https://localhost:8080/",
          "height": 299
        }
      },
      "source": [
        "# Plot training & validation accuracy values\n",
        "\n",
        "plt.plot(history.history['acc'])\n",
        "plt.plot(history.history['val_acc'])\n",
        "plt.title('Model accuracy')\n",
        "plt.ylabel('Accuracy')\n",
        "plt.xlabel('Epoch')\n",
        "plt.legend(['Train', 'Test'], loc='upper left')\n",
        "plt.show()"
      ],
      "execution_count": 0,
      "outputs": [
        {
          "output_type": "display_data",
          "data": {
            "image/png": "[encoded data removed]",
            "text/plain": [
              "<Figure size 432x288 with 1 Axes>"
            ]
          },
          "metadata": {
            "tags": []
          }
        }
      ]
    },
    {
      "cell_type": "markdown",
      "metadata": {
        "id": "B9K1yYfe3vSL",
        "colab_type": "text"
      },
      "source": [
        "#Summary\n",
        "\n",
        "We learned how to detect fake news, we took a political dataset, implemented a TfidfVectorizer, initialized a PassiveAggressiveClassifier, and fit our model. We ended up obtaining an accuracy of 92.82%.\n",
        "\n",
        "\n",
        "After we trained our network for 10 epochs with a batch size of 128 using an 80–20 training/hold-out set. A couple of notes on additional parameters: \n",
        "* The vast majority of documents in this collection is of length 5000 or less. So for the maximum input sequence length for the DNN I chose 5000 words. \n",
        "* There are roughly 100,000 unique words in this collection of documents. I arbitrarily limited the dictionary that the DNN can learn to 25% of that: 25,000 words. \n",
        "* Finally, for the embedding dimension, I chose 300 simply because that is the default embedding dimension for both word2vec and GloVe.\n",
        "\n",
        "The results were very good,\n",
        "Around 95% accuracy for the CNN model.\n",
        "\n",
        "The performance increase is statistically significant compared to the performance of the PasiveAggressiveClassifier, but it comes with a cost, each epoch takes betwwen 10 to 12 min, so just testing itterations can take a whole day. \n",
        "\n",
        "One conclusion that one might draw is that semantic similarity between words and word order or context are crucial for document classification.\n"
      ]
    },
    {
      "cell_type": "code",
      "metadata": {
        "id": "lD4YF0I26YdO",
        "colab_type": "code",
        "colab": {}
      },
      "source": [
        ""
      ],
      "execution_count": 0,
      "outputs": []
    }
  ]
}
